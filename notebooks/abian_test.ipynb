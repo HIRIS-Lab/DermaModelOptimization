{
 "cells": [
  {
   "cell_type": "code",
   "execution_count": null,
   "metadata": {},
   "outputs": [],
   "source": [
    "import os, sys\n",
    "project_dir = os.path.join(os.getcwd(),'..')\n",
    "if project_dir not in sys.path:\n",
    "    sys.path.append(project_dir)\n",
    "\n",
    "attention_dir = os.path.join(project_dir, 'modules/AttentionMap')\n",
    "if attention_dir not in sys.path:\n",
    "    sys.path.append(attention_dir)\n",
    "\n",
    "sparse_dir = os.path.join(project_dir, 'modules/Sparse')\n",
    "if sparse_dir not in sys.path:\n",
    "    sys.path.append(sparse_dir) \n",
    "\n",
    "import numpy as np\n",
    "import config, torch\n",
    "from torch import nn\n",
    "import os\n",
    "from derma.dataset import Derma, get_samples_weight"
   ]
  },
  {
   "cell_type": "code",
   "execution_count": null,
   "metadata": {},
   "outputs": [],
   "source": [
    "from torchvision.transforms import Compose, ToTensor, Normalize, RandomHorizontalFlip, RandomVerticalFlip, RandomRotation\n",
    "transform = Compose([\n",
    "        RandomHorizontalFlip(), \n",
    "        RandomVerticalFlip(),\n",
    "        RandomRotation(90),\n",
    "        ToTensor(),\n",
    "        Normalize(mean=[0.485, 0.456, 0.406], std=[0.229, 0.224, 0.225])\n",
    "    ])\n",
    "\n",
    "val_transform = Compose([\n",
    "        ToTensor(),\n",
    "        Normalize(mean=[0.485, 0.456, 0.406], std=[0.229, 0.224, 0.225])\n",
    "    ])\n",
    "\n",
    "dataset = Derma(config.DATASET_DIR, transform=transform)\n",
    "val_dataset = Derma(config.DATASET_DIR, transform=val_transform)\n",
    "\n",
    "from torch.utils.data import DataLoader, random_split\n",
    "val_size = int(0.1*len(dataset))\n",
    "train_size = len(dataset) - val_size\n",
    "\n",
    "train_set, val_set = random_split(dataset, [train_size, val_size])\n",
    "val_set.dataset = val_dataset # Buscar una forma más elegante de hacerlo\n",
    "\n",
    "train_sampler, _ = get_samples_weight(train_set)\n",
    "train_loader = DataLoader(train_set, batch_size=64, shuffle=False, sampler=train_sampler)\n",
    "\n",
    "val_sampler, _ = get_samples_weight(val_set)\n",
    "val_loader = DataLoader(val_set, batch_size=512, shuffle=False, sampler=val_sampler)"
   ]
  },
  {
   "cell_type": "code",
   "execution_count": null,
   "metadata": {},
   "outputs": [],
   "source": [
    "from derma.architecture import InvertedResidual\n",
    "from torchvision.models import MobileNetV2\n",
    "\n",
    "inverted_residual_setting = [\n",
    "        # t, c, n, s\n",
    "        [1, 16, 1, 1],\n",
    "        [6, 24, 2, 2],\n",
    "        [6, 32, 3, 2],\n",
    "        [6, 64, 4, 2],\n",
    "        [6, 96, 3, 1],\n",
    "        [6, 160, 3, 2],\n",
    "        [6, 320, 1, 1],\n",
    "    ]\n",
    "\n",
    "# inverted_residual_setting = [\n",
    "#         # t, c, n, s\n",
    "#         [1, 16, 1, 1],\n",
    "#         [2, 24, 1, 2],\n",
    "#         [2, 32, 1, 2],\n",
    "#         [2, 64, 1, 2],\n",
    "#         [2, 96, 1, 1],\n",
    "#         [2, 160, 1, 2],\n",
    "#         [2, 320, 1, 1],\n",
    "#     ]\n",
    "\n",
    "labels = [0, 1]\n",
    "model = MobileNetV2(num_classes=len(labels), inverted_residual_setting=inverted_residual_setting, block=InvertedResidual)\n",
    "# model = MobileNetV2(num_classes=len(labels), inverted_residual_setting=inverted_residual_setting)"
   ]
  },
  {
   "cell_type": "code",
   "execution_count": null,
   "metadata": {},
   "outputs": [],
   "source": [
    "from derma.utils import train\n",
    "from torch.utils.tensorboard import SummaryWriter\n",
    "\n",
    "optimizer = torch.optim.Adam(model.parameters(), lr=5e-4, weight_decay=1e-6)\n",
    "tb_writer = SummaryWriter(log_dir='test/CoordAtt')\n",
    "criterion = torch.nn.CrossEntropyLoss()\n",
    "\n",
    "train(model, [train_loader, val_loader], optimizer, criterion, 3, tb_writer)"
   ]
  },
  {
   "cell_type": "code",
   "execution_count": null,
   "metadata": {},
   "outputs": [],
   "source": [
    "from torchvision.models import MobileNetV2\n",
    "from derma.architecture import MobileNetDecoder\n",
    "\n",
    "inverted_residual_setting = [\n",
    "        # t, c, n, s\n",
    "        [1, 16, 1, 1],\n",
    "        [6, 24, 2, 2],\n",
    "        [6, 32, 3, 2],\n",
    "        [6, 64, 4, 2],\n",
    "        [6, 96, 3, 1],\n",
    "        [6, 160, 3, 2],\n",
    "        [6, 320, 1, 1],\n",
    "    ]\n",
    "\n",
    "encoder = MobileNetV2(inverted_residual_setting=inverted_residual_setting).features\n",
    "decoder = MobileNetDecoder(inverted_residual_setting)\n",
    "model = nn.Sequential(encoder, decoder)"
   ]
  },
  {
   "cell_type": "code",
   "execution_count": null,
   "metadata": {},
   "outputs": [],
   "source": [
    "from derma.utils import train\n",
    "from torch.utils.tensorboard import SummaryWriter\n",
    "\n",
    "optimizer = torch.optim.Adam(model.parameters(), lr=1e-3, weight_decay=1e-6)\n",
    "tb_writer = SummaryWriter(log_dir='reconstruction/')\n",
    "criterion = nn.MSELoss()\n",
    "\n",
    "train(model, [train_loader, val_loader], optimizer, criterion, 3, tb_writer, reconstruction=True)"
   ]
  },
  {
   "cell_type": "code",
   "execution_count": null,
   "metadata": {},
   "outputs": [],
   "source": []
  }
 ],
 "metadata": {
  "interpreter": {
   "hash": "8be288c0f7cf730e461c8289270dd700d84c567df308072f67d48c6566ce8adf"
  },
  "kernelspec": {
   "display_name": "Python 3.9.7 ('HSI-BandSelection')",
   "language": "python",
   "name": "python3"
  },
  "language_info": {
   "codemirror_mode": {
    "name": "ipython",
    "version": 3
   },
   "file_extension": ".py",
   "mimetype": "text/x-python",
   "name": "python",
   "nbconvert_exporter": "python",
   "pygments_lexer": "ipython3",
   "version": "3.9.7"
  },
  "orig_nbformat": 4
 },
 "nbformat": 4,
 "nbformat_minor": 2
}
