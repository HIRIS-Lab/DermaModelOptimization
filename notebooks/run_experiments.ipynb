{
 "cells": [
  {
   "cell_type": "code",
   "execution_count": null,
   "metadata": {},
   "outputs": [],
   "source": [
    "import os, sys\n",
    "project_dir = os.path.join(os.getcwd(),'..')\n",
    "if project_dir not in sys.path:\n",
    "    sys.path.append(project_dir)\n",
    "\n",
    "attention_dir = os.path.join(project_dir, 'modules/AttentionMap')\n",
    "if attention_dir not in sys.path:\n",
    "    sys.path.append(attention_dir)\n",
    "\n",
    "sparse_dir = os.path.join(project_dir, 'modules/Sparse')\n",
    "if sparse_dir not in sys.path:\n",
    "    sys.path.append(sparse_dir) \n",
    "\n",
    "import config\n",
    "from derma.dataset import Derma\n",
    "from derma.architecture import InvertedResidual\n",
    "from derma.experiment import train_experiment, load_experiment"
   ]
  },
  {
   "cell_type": "code",
   "execution_count": null,
   "metadata": {},
   "outputs": [],
   "source": [
    "# PROBLEM DEFINITION (bucle casos?)\n",
    "\n",
    "# problem_name = 'block_setting_classes_size-hairs_weighted-classes'\n",
    "problem_name = 'CA_irv00_2_128_raw_weighted'\n",
    "dataset_dir = os.path.join(config.DATASET_DIR,'Train','0128-0128_raw')\n",
    "#problem_name = 'Mn_irv00_2_4000-6000_raw_weighted' \n",
    "#dataset_dir = os.path.join(config.DATASET_DIR,'4000-6000_raw')\n",
    "\n",
    "CoordAtt = False\n",
    "Weighted_sampling = True\n",
    "\n",
    "dropout = 0.2 # original is 0.2\n",
    "\n",
    "from torchvision import transforms\n",
    "transform = transforms.Compose([\n",
    "    transforms.ToTensor(),\n",
    "    transforms.Resize((128, 128))\n",
    "])\n",
    "# MODEL\n",
    "inverted_residual_setting = [\n",
    "        # t, c, n, s\n",
    "        [1, 16, 1, 1],\n",
    "        [6, 24, 2, 2],\n",
    "        [6, 32, 3, 2],\n",
    "        [6, 64, 4, 2],\n",
    "        [6, 96, 3, 1],\n",
    "        [6, 160, 3, 2],\n",
    "        [6, 320, 1, 1],\n",
    "    ]\n",
    "\n",
    "# Original setting for mobilenet v2 (https://github.com/pytorch/vision/blob/main/torchvision/models/mobilenetv2.py)"
   ]
  },
  {
   "cell_type": "code",
   "execution_count": null,
   "metadata": {},
   "outputs": [],
   "source": [
    "# Loading dataset\n",
    "from derma.experiment import problem_def\n",
    "train_loader, val_loader, test_loader = problem_def(dataset_dir,Weighted_sampling)"
   ]
  },
  {
   "cell_type": "code",
   "execution_count": null,
   "metadata": {},
   "outputs": [],
   "source": [
    "from derma.dataset import Derma\n",
    "from derma.architecture import InvertedResidual\n",
    "from derma.utils import train\n",
    "import torch\n",
    "from torchvision.models import MobileNetV2\n",
    "from torchvision import transforms\n",
    "from torch.utils.tensorboard import SummaryWriter\n",
    "log_dir = os.path.join('log',problem_name) \n",
    "model_dir = os.path.join('models',problem_name+'.pt')\n",
    "\n",
    "if CoordAtt:\n",
    "    model = MobileNetV2(num_classes=2, inverted_residual_setting=inverted_residual_setting, block=InvertedResidual,dropout=dropout)\n",
    "else:\n",
    "    model = MobileNetV2(num_classes=2, inverted_residual_setting=inverted_residual_setting,dropout=dropout) # standard MobileNetV2\n",
    "optimizer = torch.optim.Adam(model.parameters(), lr=1e-3, weight_decay=1e-6)\n",
    "tb_writer = SummaryWriter(log_dir=log_dir)\n",
    "train(model, train_loader, optimizer, tb_writer, criterion=torch.nn.CrossEntropyLoss(), n_epoch=10)\n",
    "torch.save(model.state_dict(), model_dir)"
   ]
  },
  {
   "cell_type": "code",
   "execution_count": null,
   "metadata": {},
   "outputs": [],
   "source": [
    "#train_experiment(dataset_dir,problem_name,Weighted_sampling,CoordAtt,inverted_residual_setting)\n",
    "#train_experiment(dataset_dir,problem_name,Weighted_sampling,CoordAtt,inverted_residual_setting,transform=transform)\n"
   ]
  },
  {
   "cell_type": "code",
   "execution_count": null,
   "metadata": {},
   "outputs": [],
   "source": [
    "from derma.experiment import test_experiment\n",
    "metrics = test_experiment(model,test_loader)"
   ]
  },
  {
   "cell_type": "code",
   "execution_count": null,
   "metadata": {},
   "outputs": [],
   "source": []
  }
 ],
 "metadata": {
  "interpreter": {
   "hash": "5e370d1ee7207276d948e209459c44b65c9c6065829f2031da36f54906ba1431"
  },
  "kernelspec": {
   "display_name": "Python 3.8.10 ('venv_torch38')",
   "language": "python",
   "name": "python3"
  },
  "language_info": {
   "codemirror_mode": {
    "name": "ipython",
    "version": 3
   },
   "file_extension": ".py",
   "mimetype": "text/x-python",
   "name": "python",
   "nbconvert_exporter": "python",
   "pygments_lexer": "ipython3",
   "version": "3.8.10"
  },
  "orig_nbformat": 4
 },
 "nbformat": 4,
 "nbformat_minor": 2
}
