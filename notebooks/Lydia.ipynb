{
 "cells": [
  {
   "cell_type": "markdown",
   "metadata": {},
   "source": [
    "#Comentarios\n",
    "\n",
    "- rutas a las imagenes -> mirar clase derma en fichero dataset.py\n",
    "- modelo: mobilenet o probar la efficientnet\n",
    "- \n"
   ]
  },
  {
   "cell_type": "code",
   "execution_count": null,
   "metadata": {},
   "outputs": [],
   "source": [
    "inverted_residual_setting_v0 = [\n",
    "        # t, c, n, s\n",
    "        [1, 16, 1, 1],\n",
    "        [6, 24, 2, 2],\n",
    "        [6, 32, 3, 2],\n",
    "        [6, 64, 4, 2],\n",
    "        [6, 96, 3, 1],\n",
    "        [6, 160, 3, 2],\n",
    "        [6, 320, 1, 1],\n",
    "    ] #ORIGINAL\n",
    "\n",
    "inverted_residual_setting_vOPT = [\n",
    "        # t, c, n, s\n",
    "        [1, 16, 1, 1],\n",
    "        [4, 24, 1, 2],\n",
    "        [4, 32, 1, 2],\n",
    "        [4, 64, 1, 2],\n",
    "        [4, 96, 1, 1],\n",
    "        [4, 160, 1, 2],\n",
    "        [4, 320, 1, 1],\n",
    "    ]\n",
    "\n",
    "CoordAtt = False"
   ]
  },
  {
   "cell_type": "code",
   "execution_count": null,
   "metadata": {},
   "outputs": [],
   "source": [
    "# Fichero coordinateattentionresidual.py\n",
    "\n",
    "from coordinateattentionresidual import CoordAttention, InvertedResidual\n",
    "class InvertedResidual(nn.Module):\n",
    "    r'''\n",
    "        Inverted Residual with Coordinate Attention.\n",
    "    '''\n",
    "    def __init__(self, inp, oup, stride, expand_ratio, norm_layer: Optional[Callable[..., nn.Module]] = None):\n",
    "        super(InvertedResidual, self).__init__()\n",
    "        assert stride in [1, 2]\n",
    "\n",
    "        hidden_dim = round(inp * expand_ratio)\n",
    "        self.identity = stride == 1 and inp == oup\n",
    "\n",
    "        if expand_ratio == 1:\n",
    "            self.conv = nn.Sequential(\n",
    "                # dw\n",
    "                nn.Conv2d(hidden_dim, hidden_dim, 3, stride, 1, groups=hidden_dim, bias=False),\n",
    "                nn.BatchNorm2d(hidden_dim),\n",
    "                nn.ReLU6(inplace=True),\n",
    "                # pw-linear\n",
    "                nn.Conv2d(hidden_dim, oup, 1, 1, 0, bias=False),\n",
    "                nn.BatchNorm2d(oup),\n",
    "            )\n",
    "        else:\n",
    "            self.conv = nn.Sequential(\n",
    "                # pw\n",
    "                nn.Conv2d(inp, hidden_dim, 1, 1, 0, bias=False),\n",
    "                nn.BatchNorm2d(hidden_dim),\n",
    "                nn.ReLU6(inplace=True),\n",
    "                # dw\n",
    "                nn.Conv2d(hidden_dim, hidden_dim, 3, stride, 1, groups=hidden_dim, bias=False),\n",
    "                nn.BatchNorm2d(hidden_dim),\n",
    "                nn.ReLU6(inplace=True),\n",
    "                # coordinate attention\n",
    "                CoordAttention(hidden_dim, hidden_dim),\n",
    "                # pw-linear\n",
    "                nn.Conv2d(hidden_dim, oup, 1, 1, 0, bias=False),\n",
    "                nn.BatchNorm2d(oup),\n",
    "            )\n",
    "\n",
    "    def forward(self, x):\n",
    "        y = self.conv(x)\n",
    "        if self.identity:\n",
    "            return x + y\n",
    "        else:\n",
    "            return y"
   ]
  },
  {
   "cell_type": "code",
   "execution_count": null,
   "metadata": {},
   "outputs": [],
   "source": [
    "from torchvision.models import MobileNetV2\n",
    "\n",
    "num_classes = 2\n",
    "\n",
    "if CoordAtt:\n",
    "    model = MobileNetV2(num_classes=2, inverted_residual_setting=inverted_residual_setting_vOPT, block=InvertedResidual)\n",
    "else:\n",
    "    model = MobileNetV2(num_classes=len(labels), inverted_residual_setting=inverted_residual_setting_v0) # standard MobileNetV2"
   ]
  },
  {
   "cell_type": "code",
   "execution_count": null,
   "metadata": {},
   "outputs": [],
   "source": [
    "def modelo():\n",
    "    x = onvwonv\n",
    "    x = vwonv\n",
    "    \n",
    "\n",
    "\n"
   ]
  }
 ],
 "metadata": {
  "interpreter": {
   "hash": "c571bd95424cc4fc72602a4c9173930d75045d6101e67767e8cd7c0f5618c307"
  },
  "kernelspec": {
   "display_name": "Python 3.8.10 ('venv_torch38')",
   "language": "python",
   "name": "python3"
  },
  "language_info": {
   "codemirror_mode": {
    "name": "ipython",
    "version": 3
   },
   "file_extension": ".py",
   "mimetype": "text/x-python",
   "name": "python",
   "nbconvert_exporter": "python",
   "pygments_lexer": "ipython3",
   "version": "3.8.10"
  },
  "orig_nbformat": 4
 },
 "nbformat": 4,
 "nbformat_minor": 2
}
