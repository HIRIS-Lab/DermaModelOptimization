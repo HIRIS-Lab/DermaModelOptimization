{
 "cells": [
  {
   "cell_type": "code",
   "execution_count": 1,
   "metadata": {},
   "outputs": [
    {
     "data": {
      "text/plain": [
       "True"
      ]
     },
     "execution_count": 1,
     "metadata": {},
     "output_type": "execute_result"
    }
   ],
   "source": [
    "import os, sys\n",
    "project_dir = os.path.join(os.getcwd(),'..')\n",
    "if project_dir not in sys.path:\n",
    "    sys.path.append(project_dir)\n",
    "\n",
    "attention_dir = os.path.join(project_dir, 'modules/AttentionMap')\n",
    "if attention_dir not in sys.path:\n",
    "    sys.path.append(attention_dir)\n",
    "\n",
    "sparse_dir = os.path.join(project_dir, 'modules/Sparse')\n",
    "if sparse_dir not in sys.path:\n",
    "    sys.path.append(sparse_dir) \n",
    "\n",
    "import config\n",
    "from derma.dataset import Derma\n",
    "from derma.architecture import InvertedResidual\n",
    "\n",
    "import numpy as np\n",
    "import torch\n",
    "from torch.utils.data import DataLoader\n",
    "from torchvision.models import MobileNetV2\n",
    "from torchvision import transforms\n",
    "\n",
    "torch.cuda.is_available()"
   ]
  },
  {
   "cell_type": "code",
   "execution_count": 2,
   "metadata": {},
   "outputs": [],
   "source": [
    "test = [1,2,4,3]  # 1: MbV2, 2: MbV2_CA, 3: MbV2_CA_Reduced, 4: MbV2_Reduced\n",
    "DB_used = ['HAM10000','ISIC2019'] # 'HAM10000', 'ISIC2019', 'PH2'\n",
    "experiments = [[test[j],DB_used[i]] for i in range(len(DB_used)) for j in range(len(test))]"
   ]
  },
  {
   "cell_type": "code",
   "execution_count": 3,
   "metadata": {},
   "outputs": [
    {
     "name": "stderr",
     "output_type": "stream",
     "text": [
      "100%|██████████| 8/8 [02:07<00:00, 15.91s/it]\n"
     ]
    },
    {
     "data": {
      "text/html": [
       "<div>\n",
       "<style scoped>\n",
       "    .dataframe tbody tr th:only-of-type {\n",
       "        vertical-align: middle;\n",
       "    }\n",
       "\n",
       "    .dataframe tbody tr th {\n",
       "        vertical-align: top;\n",
       "    }\n",
       "\n",
       "    .dataframe thead th {\n",
       "        text-align: right;\n",
       "    }\n",
       "</style>\n",
       "<table border=\"1\" class=\"dataframe\">\n",
       "  <thead>\n",
       "    <tr style=\"text-align: right;\">\n",
       "      <th></th>\n",
       "      <th>Experiment</th>\n",
       "      <th>Sensitivity</th>\n",
       "      <th>Specificity</th>\n",
       "      <th>Precission</th>\n",
       "      <th>Recall</th>\n",
       "      <th>Accuracy</th>\n",
       "    </tr>\n",
       "  </thead>\n",
       "  <tbody>\n",
       "    <tr>\n",
       "      <th>0</th>\n",
       "      <td>HAM10000_MbV2</td>\n",
       "      <td>0.9231</td>\n",
       "      <td>0.9091</td>\n",
       "      <td>0.9231</td>\n",
       "      <td>0.9231</td>\n",
       "      <td>0.9167</td>\n",
       "    </tr>\n",
       "    <tr>\n",
       "      <th>0</th>\n",
       "      <td>HAM10000_MbV2_CA</td>\n",
       "      <td>0.9231</td>\n",
       "      <td>0.9091</td>\n",
       "      <td>0.9231</td>\n",
       "      <td>0.9231</td>\n",
       "      <td>0.9167</td>\n",
       "    </tr>\n",
       "    <tr>\n",
       "      <th>0</th>\n",
       "      <td>HAM10000_MbV2_Reduced</td>\n",
       "      <td>0.8462</td>\n",
       "      <td>0.9091</td>\n",
       "      <td>0.9167</td>\n",
       "      <td>0.8462</td>\n",
       "      <td>0.8750</td>\n",
       "    </tr>\n",
       "    <tr>\n",
       "      <th>0</th>\n",
       "      <td>HAM10000_MbV2_CA_Reduced</td>\n",
       "      <td>0.9231</td>\n",
       "      <td>1.0000</td>\n",
       "      <td>1.0000</td>\n",
       "      <td>0.9231</td>\n",
       "      <td>0.9583</td>\n",
       "    </tr>\n",
       "    <tr>\n",
       "      <th>0</th>\n",
       "      <td>ISIC2019_MbV2</td>\n",
       "      <td>0.7500</td>\n",
       "      <td>0.8235</td>\n",
       "      <td>0.6667</td>\n",
       "      <td>0.7500</td>\n",
       "      <td>0.8000</td>\n",
       "    </tr>\n",
       "    <tr>\n",
       "      <th>0</th>\n",
       "      <td>ISIC2019_MbV2_CA</td>\n",
       "      <td>0.8750</td>\n",
       "      <td>0.6471</td>\n",
       "      <td>0.5385</td>\n",
       "      <td>0.8750</td>\n",
       "      <td>0.7200</td>\n",
       "    </tr>\n",
       "    <tr>\n",
       "      <th>0</th>\n",
       "      <td>ISIC2019_MbV2_Reduced</td>\n",
       "      <td>0.8750</td>\n",
       "      <td>0.7647</td>\n",
       "      <td>0.6364</td>\n",
       "      <td>0.8750</td>\n",
       "      <td>0.8000</td>\n",
       "    </tr>\n",
       "    <tr>\n",
       "      <th>0</th>\n",
       "      <td>ISIC2019_MbV2_CA_Reduced</td>\n",
       "      <td>0.8750</td>\n",
       "      <td>0.7059</td>\n",
       "      <td>0.5833</td>\n",
       "      <td>0.8750</td>\n",
       "      <td>0.7600</td>\n",
       "    </tr>\n",
       "  </tbody>\n",
       "</table>\n",
       "</div>"
      ],
      "text/plain": [
       "                 Experiment  Sensitivity  Specificity  Precission  Recall  \\\n",
       "0             HAM10000_MbV2       0.9231       0.9091      0.9231  0.9231   \n",
       "0          HAM10000_MbV2_CA       0.9231       0.9091      0.9231  0.9231   \n",
       "0     HAM10000_MbV2_Reduced       0.8462       0.9091      0.9167  0.8462   \n",
       "0  HAM10000_MbV2_CA_Reduced       0.9231       1.0000      1.0000  0.9231   \n",
       "0             ISIC2019_MbV2       0.7500       0.8235      0.6667  0.7500   \n",
       "0          ISIC2019_MbV2_CA       0.8750       0.6471      0.5385  0.8750   \n",
       "0     ISIC2019_MbV2_Reduced       0.8750       0.7647      0.6364  0.8750   \n",
       "0  ISIC2019_MbV2_CA_Reduced       0.8750       0.7059      0.5833  0.8750   \n",
       "\n",
       "   Accuracy  \n",
       "0    0.9167  \n",
       "0    0.9167  \n",
       "0    0.8750  \n",
       "0    0.9583  \n",
       "0    0.8000  \n",
       "0    0.7200  \n",
       "0    0.8000  \n",
       "0    0.7600  "
      ]
     },
     "execution_count": 3,
     "metadata": {},
     "output_type": "execute_result"
    }
   ],
   "source": [
    "from derma.experiment import load_experiments_results\n",
    "import pandas as pd\n",
    "import tqdm\n",
    "columns = ['Experiment','Sensitivity', 'Specificity', 'Precission', 'Recall', 'Accuracy']\n",
    "pd.options.display.float_format = '{:,.4f}'.format\n",
    "metrics = pd.DataFrame(columns=columns)\n",
    "for exp in tqdm.tqdm(experiments):\n",
    "    test_result, experiment_name = load_experiments_results(exp[0],exp[1])\n",
    "    metrics = pd.concat([metrics,test_result])\n",
    "    metrics.iloc[-1,0] = experiment_name\n",
    "metrics.fillna(1)\n"
   ]
  },
  {
   "cell_type": "code",
   "execution_count": 4,
   "metadata": {},
   "outputs": [],
   "source": [
    "metrics.to_csv('../results/metrics.csv',index=False)"
   ]
  },
  {
   "cell_type": "code",
   "execution_count": null,
   "metadata": {},
   "outputs": [],
   "source": []
  }
 ],
 "metadata": {
  "interpreter": {
   "hash": "5e370d1ee7207276d948e209459c44b65c9c6065829f2031da36f54906ba1431"
  },
  "kernelspec": {
   "display_name": "Python 3.8.10 ('venv_torch38')",
   "language": "python",
   "name": "python3"
  },
  "language_info": {
   "codemirror_mode": {
    "name": "ipython",
    "version": 3
   },
   "file_extension": ".py",
   "mimetype": "text/x-python",
   "name": "python",
   "nbconvert_exporter": "python",
   "pygments_lexer": "ipython3",
   "version": "3.8.10"
  },
  "orig_nbformat": 4
 },
 "nbformat": 4,
 "nbformat_minor": 2
}
