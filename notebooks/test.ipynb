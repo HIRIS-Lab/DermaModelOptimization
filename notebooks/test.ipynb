{
 "cells": [
  {
   "cell_type": "code",
   "execution_count": null,
   "metadata": {},
   "outputs": [],
   "source": [
    "import os, sys\n",
    "project_dir = os.path.join(os.getcwd(),'..')\n",
    "if project_dir not in sys.path:\n",
    "    sys.path.append(project_dir)\n",
    "\n",
    "attention_dir = os.path.join(project_dir, 'modules/AttentionMap')\n",
    "if attention_dir not in sys.path:\n",
    "    sys.path.append(attention_dir)\n",
    "\n",
    "sparse_dir = os.path.join(project_dir, 'modules/Sparse')\n",
    "if sparse_dir not in sys.path:\n",
    "    sys.path.append(sparse_dir) "
   ]
  },
  {
   "cell_type": "code",
   "execution_count": null,
   "metadata": {},
   "outputs": [],
   "source": [
    "from AttentionMap.LocalAttention import CoordinateAttentionBlock, CoordAttentionConv\n",
    "\n",
    "# test = CoordinateAttentionBlock(3, 16, 4)\n",
    "model = CoordAttentionConv(3, 8, 8)"
   ]
  },
  {
   "cell_type": "code",
   "execution_count": null,
   "metadata": {},
   "outputs": [],
   "source": [
    "model"
   ]
  },
  {
   "cell_type": "code",
   "execution_count": null,
   "metadata": {},
   "outputs": [],
   "source": [
    "import torch\n",
    "from matplotlib import pyplot as plt\n",
    "a = torch.rand(1,3,8,12)\n",
    "N,C,H,W = a.size()\n",
    "plt.imshow(a[0,0])\n",
    "plt.colorbar()\n",
    "plt.show()"
   ]
  },
  {
   "cell_type": "code",
   "execution_count": null,
   "metadata": {},
   "outputs": [],
   "source": [
    "result = model(a).detach()\n",
    "\n",
    "plt.figure(figsize=(16,4))\n",
    "for i in range(result.size(1)):\n",
    "    plt.subplot(2,result.size(1)//2,i+1)\n",
    "    plt.imshow(result[0,i])\n",
    "    plt.colorbar()\n",
    "\n",
    "plt.show()"
   ]
  },
  {
   "cell_type": "code",
   "execution_count": null,
   "metadata": {},
   "outputs": [],
   "source": [
    "from torchvision.datasets import MNIST\n",
    "\n",
    "dataset = MNIST('data/', download=True)"
   ]
  },
  {
   "cell_type": "code",
   "execution_count": null,
   "metadata": {},
   "outputs": [],
   "source": [
    "from torch.utils.data import Dataset\n",
    "from PIL import Image\n",
    "\n",
    "class Derma(Dataset):\n",
    "    def __init__(self, root_dir: str, transform=None, seed) -> None:\n",
    "        super(Derma, self).__init__()\n",
    "        '''\n",
    "            Definir tu conjunto de datos tal que X e Y estén \"relacionadas\"\n",
    "\n",
    "            1. Buscar en el directorio y almacenar las rutas\n",
    "        '''\n",
    "        \n",
    "        # self.x = ['test/0.png', 'img/1.png', 'img/2.png', 'img/3.png']\n",
    "        # self.y = [0, 1, 0, 1]\n",
    "        self.x = []\n",
    "        self.y = []\n",
    "\n",
    "        self.transform = transform\n",
    "\n",
    "    def __len__(self):\n",
    "        return len(self.x)\n",
    "\n",
    "    def __getitem__(self, idx):\n",
    "        x = Image.open(self.x[idx]).convert('RGB')\n",
    "        y = self.y[idx]\n",
    "\n",
    "        if self.transform:\n",
    "            x = self.transform(x)\n",
    "\n",
    "        return (x, y)\n"
   ]
  },
  {
   "cell_type": "code",
   "execution_count": null,
   "metadata": {},
   "outputs": [],
   "source": [
    "dataset_dir = os.path.join(config.DATASET_DIR, 'pepe')"
   ]
  },
  {
   "cell_type": "code",
   "execution_count": null,
   "metadata": {},
   "outputs": [],
   "source": [
    "from torchvision.transforms import Compose, ToTensor, Normalize, RandomRotation\n",
    "transform = Compose([\n",
    "    ToTensor(),\n",
    "    Normalize([0.5,0.5,0.5], [0.5,0.5,0.5]), \n",
    "    RandomRotation(10, )\n",
    "])\n",
    "test = Derma('asd', transform)\n",
    "x, y = test[0]\n",
    "# x"
   ]
  },
  {
   "cell_type": "code",
   "execution_count": null,
   "metadata": {},
   "outputs": [],
   "source": [
    "x.shape"
   ]
  },
  {
   "cell_type": "code",
   "execution_count": null,
   "metadata": {},
   "outputs": [],
   "source": [
    "x.max()"
   ]
  },
  {
   "cell_type": "code",
   "execution_count": null,
   "metadata": {},
   "outputs": [],
   "source": [
    "x.min()"
   ]
  },
  {
   "cell_type": "code",
   "execution_count": null,
   "metadata": {},
   "outputs": [],
   "source": []
  }
 ],
 "metadata": {
  "interpreter": {
   "hash": "8be288c0f7cf730e461c8289270dd700d84c567df308072f67d48c6566ce8adf"
  },
  "kernelspec": {
   "display_name": "Python 3.9.7 ('HSI-BandSelection')",
   "language": "python",
   "name": "python3"
  },
  "language_info": {
   "codemirror_mode": {
    "name": "ipython",
    "version": 3
   },
   "file_extension": ".py",
   "mimetype": "text/x-python",
   "name": "python",
   "nbconvert_exporter": "python",
   "pygments_lexer": "ipython3",
   "version": "3.9.7"
  },
  "orig_nbformat": 4
 },
 "nbformat": 4,
 "nbformat_minor": 2
}
