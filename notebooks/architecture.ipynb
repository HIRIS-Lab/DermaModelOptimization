{
 "cells": [
  {
   "cell_type": "code",
   "execution_count": null,
   "metadata": {},
   "outputs": [],
   "source": [
    "import os, sys\n",
    "project_dir = os.path.join(os.getcwd(),'..')\n",
    "if project_dir not in sys.path:\n",
    "    sys.path.append(project_dir)\n",
    "\n",
    "attention_dir = os.path.join(project_dir, 'modules/AttentionMap')\n",
    "if attention_dir not in sys.path:\n",
    "    sys.path.append(attention_dir)\n",
    "\n",
    "sparse_dir = os.path.join(project_dir, 'modules/Sparse')\n",
    "if sparse_dir not in sys.path:\n",
    "    sys.path.append(sparse_dir) \n",
    "\n",
    "import config\n",
    "from derma.dataset import Derma\n",
    "from derma.architecture import InvertedResidual\n",
    "\n",
    "import numpy as np\n",
    "import torch\n",
    "from torch.utils.data import DataLoader\n",
    "from torchvision.models import MobileNetV2\n",
    "from torchvision import transforms\n",
    "\n",
    "torch.cuda.is_available()"
   ]
  },
  {
   "cell_type": "markdown",
   "metadata": {},
   "source": [
    "# Problem parameters"
   ]
  },
  {
   "cell_type": "code",
   "execution_count": null,
   "metadata": {},
   "outputs": [],
   "source": [
    "# DATASET\n",
    "labels = [0, 1]\n",
    "# labels = [1, 2, 3, 4] # No funciona. Check criterion = nn.CrossEntropyLoss()\n",
    "\n",
    "#dataset_dir = os.path.join(config.DATASET_DIR,'PH2','Clases')\n",
    "dataset_dir = os.path.join(config.DATASET_DIR,'ISIC_2020','Train','0128-0128_raw')\n",
    "problem_name = 'CA_irv00_2_raw_weighted'\n",
    "# problem_name = 'block_setting_classes_size-hairs_weighted-classes'\n",
    "\n",
    "split_ratio = [0.8, 0.1, 0.1] # train, val, test\n",
    "batch_size = 10\n",
    "transform = transforms.Compose([\n",
    "    transforms.ToTensor(),\n",
    "#    transforms.Resize((128, 128))\n",
    "])\n",
    "\n",
    "# MODEL\n",
    "# Original setting for mobilenet v2 (https://github.com/pytorch/vision/blob/main/torchvision/models/mobilenetv2.py)\n",
    "inverted_residual_setting = [\n",
    "        # t, c, n, s\n",
    "        [1, 16, 1, 1],\n",
    "        [6, 24, 2, 2],\n",
    "        [6, 32, 3, 2],\n",
    "        [6, 64, 4, 2],\n",
    "        [6, 96, 3, 1],\n",
    "        [6, 160, 3, 2],\n",
    "        [6, 320, 1, 1],\n",
    "    ]\n",
    "\n",
    "CoordAtt = True\n",
    "criterion = torch.nn.CrossEntropyLoss()\n",
    "\n",
    "# TRAINING\n",
    "n_epoch = 10\n",
    "Weighted_sampling = True\n",
    "log_dir = os.path.join('log',problem_name) \n",
    "model_dir = os.path.join('models',problem_name+'.pt')"
   ]
  },
  {
   "cell_type": "markdown",
   "metadata": {},
   "source": [
    "# Dataset"
   ]
  },
  {
   "cell_type": "code",
   "execution_count": null,
   "metadata": {},
   "outputs": [],
   "source": [
    "# Derma dataset \n",
    "dataset = Derma(dataset_dir,labels=labels,transform=transform)\n",
    "\n",
    "# Train-test splittings\n",
    "#dataset.shuffle(manual_seed=42) \n",
    "train_set, val_set, test_set = dataset.split_rand(split_ratio=split_ratio,manual_seed=42)"
   ]
  },
  {
   "cell_type": "code",
   "execution_count": null,
   "metadata": {},
   "outputs": [],
   "source": [
    "# Weighted sampling\n",
    "if Weighted_sampling:\n",
    "    from derma.dataset import get_samples_weight\n",
    "    train_sampler, train_weights = get_samples_weight(train_set)\n",
    "    train_loader = DataLoader(train_set, batch_size=batch_size, num_workers=0, sampler=train_sampler)\n",
    "    val_sampler, val_weights = get_samples_weight(val_set)\n",
    "    val_loader = DataLoader(val_set, batch_size=batch_size, num_workers=0, sampler=val_sampler)\n",
    "    test_sampler, test_weights = get_samples_weight(test_set)\n",
    "    test_loader = DataLoader(test_set, batch_size=batch_size, num_workers=0, sampler=test_sampler)\n",
    "else:\n",
    "    train_loader = DataLoader(train_set, batch_size=batch_size, shuffle=True, num_workers=0)\n",
    "    val_loader = DataLoader(val_set, batch_size=batch_size, shuffle=True, num_workers=0)\n"
   ]
  },
  {
   "cell_type": "markdown",
   "metadata": {},
   "source": [
    "# Model"
   ]
  },
  {
   "cell_type": "code",
   "execution_count": null,
   "metadata": {},
   "outputs": [],
   "source": [
    "# ISIC2018\n",
    "if CoordAtt:\n",
    "    model = MobileNetV2(num_classes=len(labels), inverted_residual_setting=inverted_residual_setting, block=InvertedResidual)\n",
    "else:\n",
    "    model = MobileNetV2(num_classes=len(labels), inverted_residual_setting=inverted_residual_setting) # standard MobileNetV2"
   ]
  },
  {
   "cell_type": "markdown",
   "metadata": {},
   "source": [
    "# Training"
   ]
  },
  {
   "cell_type": "code",
   "execution_count": null,
   "metadata": {},
   "outputs": [],
   "source": [
    "from derma.utils import train\n",
    "from torch.utils.tensorboard import SummaryWriter\n",
    "\n",
    "optimizer = torch.optim.Adam(model.parameters(), lr=1e-3, weight_decay=1e-6)\n",
    "tb_writer = SummaryWriter(log_dir=log_dir)\n",
    "\n",
    "train(model, train_loader, optimizer, criterion, n_epoch, tb_writer)\n",
    "#train(model, train_loader, val_loader, optimizer, criterion, n_epoch, tb_writer)\n"
   ]
  },
  {
   "cell_type": "code",
   "execution_count": null,
   "metadata": {},
   "outputs": [],
   "source": [
    "torch.save(model.state_dict(), model_dir)"
   ]
  },
  {
   "cell_type": "markdown",
   "metadata": {},
   "source": [
    "# Test"
   ]
  },
  {
   "cell_type": "code",
   "execution_count": null,
   "metadata": {},
   "outputs": [],
   "source": [
    "if torch.cuda.is_available():\n",
    "    device = torch.device('cuda')\n",
    "    model.load_state_dict(torch.load(model_dir))\n",
    "    model.to(device)\n",
    "else:\n",
    "    model.load_state_dict(torch.load(model_dir), map_location=torch.device('cpu'))"
   ]
  },
  {
   "cell_type": "code",
   "execution_count": null,
   "metadata": {},
   "outputs": [],
   "source": [
    "from derma.experiment import test_experiment\n",
    "test_loader = DataLoader(test_set, batch_size=32, num_workers=0)\n",
    "\n",
    "metrics_df = test_experiment(model,test_loader)\n",
    "metrics_df.info()"
   ]
  },
  {
   "cell_type": "code",
   "execution_count": null,
   "metadata": {},
   "outputs": [],
   "source": []
  }
 ],
 "metadata": {
  "interpreter": {
   "hash": "bc81a3ec444beb1d5a523daf231afa571e79be8a57abb6fe0028623a3d4d7136"
  },
  "kernelspec": {
   "display_name": "Python 3.9.7 ('HySpecLab')",
   "language": "python",
   "name": "python3"
  },
  "language_info": {
   "codemirror_mode": {
    "name": "ipython",
    "version": 3
   },
   "file_extension": ".py",
   "mimetype": "text/x-python",
   "name": "python",
   "nbconvert_exporter": "python",
   "pygments_lexer": "ipython3",
   "version": "3.8.10"
  },
  "orig_nbformat": 4
 },
 "nbformat": 4,
 "nbformat_minor": 2
}
