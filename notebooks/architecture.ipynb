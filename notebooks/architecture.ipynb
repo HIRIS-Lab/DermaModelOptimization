{
 "cells": [
  {
   "cell_type": "code",
   "execution_count": 1,
   "metadata": {},
   "outputs": [
    {
     "data": {
      "text/plain": [
       "True"
      ]
     },
     "execution_count": 1,
     "metadata": {},
     "output_type": "execute_result"
    }
   ],
   "source": [
    "import os, sys\n",
    "project_dir = os.path.join(os.getcwd(),'..')\n",
    "if project_dir not in sys.path:\n",
    "    sys.path.append(project_dir)\n",
    "\n",
    "attention_dir = os.path.join(project_dir, 'modules/AttentionMap')\n",
    "if attention_dir not in sys.path:\n",
    "    sys.path.append(attention_dir)\n",
    "\n",
    "sparse_dir = os.path.join(project_dir, 'modules/Sparse')\n",
    "if sparse_dir not in sys.path:\n",
    "    sys.path.append(sparse_dir) \n",
    "\n",
    "import config\n",
    "from derma.dataset import Derma\n",
    "from derma.architecture import InvertedResidual\n",
    "\n",
    "import numpy as np\n",
    "import torch\n",
    "from torch.utils.data import DataLoader\n",
    "from torchvision.models import MobileNetV2\n",
    "from torchvision import transforms\n",
    "\n",
    "torch.cuda.is_available()"
   ]
  },
  {
   "cell_type": "markdown",
   "metadata": {},
   "source": [
    "# Problem parameters"
   ]
  },
  {
   "cell_type": "code",
   "execution_count": 2,
   "metadata": {},
   "outputs": [],
   "source": [
    "# PARAMS\n",
    "\n",
    "problem_name = 'CA_irv03_2_128_raw_weighted' # 'block_setting_classes_size-hairs_weighted-classes'\n",
    "\n",
    "#dataset_dir = os.path.join(config.DATASET_DIR,'PH2','Clases','')\n",
    "dataset_dir = os.path.join(config.DATASET_DIR,'ISIC_2020','Train','0128-0128_raw')\n",
    "\n",
    "CoordAtt = True\n",
    "Weighted_sampling = True\n",
    "\n",
    "#lr = 1e-3\n",
    "lr = 1e-5\n",
    "n_epoch = 30\n",
    "batch_size = 32\n",
    "\n",
    "inverted_residual_setting_v1 = [\n",
    "        # t, c, n, s\n",
    "        [1, 16, 1, 1],\n",
    "        [6, 24, 1, 2],\n",
    "        [6, 32, 2, 2],\n",
    "        [6, 64, 3, 2],\n",
    "        [6, 96, 2, 1],\n",
    "        [6, 160, 2, 2],\n",
    "        [6, 320, 1, 1],\n",
    "    ]\n",
    "\n",
    "inverted_residual_setting_v0 = [\n",
    "        # t, c, n, s\n",
    "        [1, 16, 1, 1],\n",
    "        [6, 24, 2, 2],\n",
    "        [6, 32, 3, 2],\n",
    "        [6, 64, 4, 2],\n",
    "        [6, 96, 3, 1],\n",
    "        [6, 160, 3, 2],\n",
    "        [6, 320, 1, 1],\n",
    "    ]\n",
    "\n",
    "inverted_residual_setting = inverted_residual_setting_v1\n",
    "\n",
    "# Original setting for mobilenet v2 (https://github.com/pytorch/vision/blob/main/torchvision/models/mobilenetv2.py)\n",
    "\n",
    "# OTHER PARAMS\n",
    "labels = [0, 1]\n",
    "split_ratio = [0.75, 0.15, 0.1] # train, val, test\n",
    "transform = transforms.Compose([\n",
    "    transforms.ToTensor(),\n",
    "#    transforms.Resize((128, 128))\n",
    "])\n",
    "\n",
    "criterion = torch.nn.CrossEntropyLoss()\n",
    "log_dir = os.path.join('log',problem_name) \n",
    "model_dir = os.path.join('models',problem_name+'.pt')"
   ]
  },
  {
   "cell_type": "markdown",
   "metadata": {},
   "source": [
    "# Dataset"
   ]
  },
  {
   "cell_type": "code",
   "execution_count": 3,
   "metadata": {},
   "outputs": [],
   "source": [
    "# Derma dataset \n",
    "dataset = Derma(dataset_dir,labels=labels,transform=transform)\n",
    "\n",
    "# Train-test splittings\n",
    "#dataset.shuffle(manual_seed=42) \n",
    "train_set, val_set, test_set = dataset.split_rand(split_ratio=split_ratio,manual_seed=42)"
   ]
  },
  {
   "cell_type": "code",
   "execution_count": 4,
   "metadata": {},
   "outputs": [],
   "source": [
    "# Weighted sampling\n",
    "if Weighted_sampling:\n",
    "    from derma.dataset import get_samples_weight\n",
    "    train_sampler, train_weights = get_samples_weight(train_set)\n",
    "    train_loader = DataLoader(train_set, batch_size=batch_size, num_workers=0, sampler=train_sampler)\n",
    "    val_sampler, val_weights = get_samples_weight(val_set)\n",
    "    val_loader = DataLoader(val_set, batch_size=batch_size, num_workers=0, sampler=val_sampler)\n",
    "    test_sampler, test_weights = get_samples_weight(test_set)\n",
    "    test_loader = DataLoader(test_set, batch_size=batch_size, num_workers=0, sampler=test_sampler)\n",
    "else:\n",
    "    train_loader = DataLoader(train_set, batch_size=batch_size, shuffle=True, num_workers=0)\n",
    "    val_loader = DataLoader(val_set, batch_size=batch_size, shuffle=True, num_workers=0)\n"
   ]
  },
  {
   "cell_type": "markdown",
   "metadata": {},
   "source": [
    "# Model"
   ]
  },
  {
   "cell_type": "code",
   "execution_count": 5,
   "metadata": {},
   "outputs": [],
   "source": [
    "if CoordAtt:\n",
    "    model = MobileNetV2(num_classes=len(labels), inverted_residual_setting=inverted_residual_setting, block=InvertedResidual)\n",
    "else:\n",
    "    model = MobileNetV2(num_classes=len(labels), inverted_residual_setting=inverted_residual_setting) # standard MobileNetV2"
   ]
  },
  {
   "cell_type": "markdown",
   "metadata": {},
   "source": [
    "# Training"
   ]
  },
  {
   "cell_type": "code",
   "execution_count": 6,
   "metadata": {},
   "outputs": [
    {
     "name": "stderr",
     "output_type": "stream",
     "text": [
      "100%|██████████| 30/30 [36:27<00:00, 72.92s/epoch, vacc=0.6875, vls=14.8579]               \n"
     ]
    }
   ],
   "source": [
    "from derma.utils import train_val\n",
    "from torch.utils.tensorboard import SummaryWriter\n",
    "\n",
    "#optimizer = torch.optim.Adam(model.parameters(), lr=lr, weight_decay=1e-6)\n",
    "optimizer = torch.optim.Adam(model.parameters(), lr=lr)\n",
    "tb_writer = SummaryWriter(log_dir=log_dir)\n",
    "\n",
    "train_val(model,train_loader,val_loader,optimizer,criterion,tb_writer,n_epoch,model_dir=model_dir)\n"
   ]
  },
  {
   "cell_type": "markdown",
   "metadata": {},
   "source": [
    "# Test"
   ]
  },
  {
   "cell_type": "code",
   "execution_count": 7,
   "metadata": {},
   "outputs": [],
   "source": [
    "if torch.cuda.is_available():\n",
    "    device = torch.device('cuda')\n",
    "    model.load_state_dict(torch.load(model_dir))\n",
    "    model.to(device)\n",
    "else:\n",
    "    model.load_state_dict(torch.load(model_dir), map_location=torch.device('cpu'))"
   ]
  },
  {
   "cell_type": "code",
   "execution_count": 9,
   "metadata": {},
   "outputs": [],
   "source": [
    "from derma.experiment import test_experiment\n",
    "metrics_df = test_experiment(model,test_loader)"
   ]
  },
  {
   "cell_type": "code",
   "execution_count": 10,
   "metadata": {},
   "outputs": [
    {
     "data": {
      "text/html": [
       "<div>\n",
       "<style scoped>\n",
       "    .dataframe tbody tr th:only-of-type {\n",
       "        vertical-align: middle;\n",
       "    }\n",
       "\n",
       "    .dataframe tbody tr th {\n",
       "        vertical-align: top;\n",
       "    }\n",
       "\n",
       "    .dataframe thead th {\n",
       "        text-align: right;\n",
       "    }\n",
       "</style>\n",
       "<table border=\"1\" class=\"dataframe\">\n",
       "  <thead>\n",
       "    <tr style=\"text-align: right;\">\n",
       "      <th></th>\n",
       "      <th>Sensitivity</th>\n",
       "      <th>Specificity</th>\n",
       "      <th>Precission</th>\n",
       "      <th>Recall</th>\n",
       "      <th>Accuracy</th>\n",
       "    </tr>\n",
       "  </thead>\n",
       "  <tbody>\n",
       "    <tr>\n",
       "      <th>0</th>\n",
       "      <td>1.0</td>\n",
       "      <td>0.5</td>\n",
       "      <td>0.5</td>\n",
       "      <td>1.0</td>\n",
       "      <td>0.666667</td>\n",
       "    </tr>\n",
       "  </tbody>\n",
       "</table>\n",
       "</div>"
      ],
      "text/plain": [
       "   Sensitivity  Specificity  Precission  Recall  Accuracy\n",
       "0          1.0          0.5         0.5     1.0  0.666667"
      ]
     },
     "execution_count": 10,
     "metadata": {},
     "output_type": "execute_result"
    }
   ],
   "source": [
    "#metrics_df.info()\n",
    "metrics_df.head()"
   ]
  },
  {
   "cell_type": "code",
   "execution_count": null,
   "metadata": {},
   "outputs": [],
   "source": []
  }
 ],
 "metadata": {
  "interpreter": {
   "hash": "bc81a3ec444beb1d5a523daf231afa571e79be8a57abb6fe0028623a3d4d7136"
  },
  "kernelspec": {
   "display_name": "Python 3.9.7 ('HySpecLab')",
   "language": "python",
   "name": "python3"
  },
  "language_info": {
   "codemirror_mode": {
    "name": "ipython",
    "version": 3
   },
   "file_extension": ".py",
   "mimetype": "text/x-python",
   "name": "python",
   "nbconvert_exporter": "python",
   "pygments_lexer": "ipython3",
   "version": "3.8.10"
  },
  "orig_nbformat": 4
 },
 "nbformat": 4,
 "nbformat_minor": 2
}
