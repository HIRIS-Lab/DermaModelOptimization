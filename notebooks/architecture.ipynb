{
 "cells": [
  {
   "cell_type": "code",
   "execution_count": 1,
   "metadata": {},
   "outputs": [],
   "source": [
    "import os, sys\n",
    "project_dir = os.path.join(os.getcwd(),'..')\n",
    "if project_dir not in sys.path:\n",
    "    sys.path.append(project_dir)\n",
    "\n",
    "attention_dir = os.path.join(project_dir, 'modules/AttentionMap')\n",
    "if attention_dir not in sys.path:\n",
    "    sys.path.append(attention_dir)\n",
    "\n",
    "sparse_dir = os.path.join(project_dir, 'modules/Sparse')\n",
    "if sparse_dir not in sys.path:\n",
    "    sys.path.append(sparse_dir) \n",
    "\n",
    "import torch\n",
    "from torch import nn\n",
    "from derma.architecture import InvertedResidual\n",
    "from torchvision.models import MobileNetV2\n",
    "from torchvision import datasets, transforms"
   ]
  },
  {
   "cell_type": "code",
   "execution_count": 2,
   "metadata": {},
   "outputs": [
    {
     "name": "stdout",
     "output_type": "stream",
     "text": [
      "Features Output shape: torch.Size([1, 1280, 2, 2])\n",
      "Classifier Output shape: torch.Size([1, 100])\n"
     ]
    }
   ],
   "source": [
    "input_test = torch.rand((1,3,64,64))\n",
    "\n",
    "# Original setting for mobilenet v2 (https://github.com/pytorch/vision/blob/main/torchvision/models/mobilenetv2.py)\n",
    "inverted_residual_setting = [\n",
    "        # t, c, n, s\n",
    "        [1, 16, 1, 1],\n",
    "        [6, 24, 2, 2],\n",
    "        [6, 32, 3, 2],\n",
    "        [6, 64, 4, 2],\n",
    "        [6, 96, 3, 1],\n",
    "        [6, 160, 3, 2],\n",
    "        [6, 320, 1, 1],\n",
    "    ]\n",
    "\n",
    "model = MobileNetV2(num_classes=100, inverted_residual_setting=inverted_residual_setting, block=InvertedResidual)\n",
    "\n",
    "print('Features Output shape: {}'.format(model.features(input_test).shape))\n",
    "print('Classifier Output shape: {}'.format(model(input_test).shape))"
   ]
  },
  {
   "cell_type": "markdown",
   "metadata": {},
   "source": [
    "# Dataset"
   ]
  },
  {
   "cell_type": "code",
   "execution_count": 3,
   "metadata": {},
   "outputs": [
    {
     "name": "stdout",
     "output_type": "stream",
     "text": [
      "Files already downloaded and verified\n"
     ]
    }
   ],
   "source": [
    "transform = transforms.Compose([\n",
    "    transforms.ToTensor(),\n",
    "    transforms.Resize((128, 128))\n",
    "])\n",
    "\n",
    "dataset = datasets.CIFAR100('data', train=True, transform=transform, download=True)\n",
    "loader = torch.utils.data.DataLoader(dataset, batch_size=32, shuffle=True)"
   ]
  },
  {
   "cell_type": "markdown",
   "metadata": {},
   "source": [
    "# Training"
   ]
  },
  {
   "cell_type": "code",
   "execution_count": 4,
   "metadata": {},
   "outputs": [
    {
     "name": "stderr",
     "output_type": "stream",
     "text": [
      "100%|██████████| 10/10 [28:46<00:00, 172.69s/epoch, tls=1.3077]\n"
     ]
    }
   ],
   "source": [
    "from torch.utils.tensorboard import SummaryWriter\n",
    "from tqdm import tqdm\n",
    "import numpy as np\n",
    "\n",
    "optimizer = torch.optim.Adam(model.parameters(), lr=1e-3, weight_decay=1e-6)\n",
    "criterion = nn.CrossEntropyLoss()\n",
    "\n",
    "device = 'cuda' if torch.cuda.is_available() else 'cpu'\n",
    "model = model.to(device) \n",
    "\n",
    "tb_writer = SummaryWriter('log/MobilenetCoordAtt')\n",
    "running_avg_accuracy = 0\n",
    "step = 0\n",
    "\n",
    "n_epoch = 10\n",
    "epoch_iterator = tqdm(\n",
    "    range(n_epoch),\n",
    "    leave=True,\n",
    "    unit=\"epoch\",\n",
    "    postfix={\"tls\": \"%.4f\" % 1},\n",
    ")\n",
    "\n",
    "loss_tr = []\n",
    "total = 0\n",
    "correct = 0\n",
    "step=0\n",
    "for epoch in epoch_iterator:\n",
    "    for idx, (inputs, targets) in enumerate(loader):\n",
    "        optimizer.zero_grad()\n",
    "\n",
    "        inputs = inputs.to(device)\n",
    "        targets = targets.to(device)\n",
    "\n",
    "        outputs = model(inputs)\n",
    "        loss = criterion(outputs, targets)\n",
    "        loss_tr.append(loss.item())\n",
    "\n",
    "        loss.backward()\n",
    "        optimizer.step()\n",
    "\n",
    "        # Accuracy\n",
    "        predict = torch.argmax(outputs, 1)\n",
    "        total += targets.size(0)\n",
    "        correct += torch.eq(predict, targets).sum().double().item()\n",
    "\n",
    "        if idx % 150 == 0:\n",
    "            epoch_iterator.set_postfix(\n",
    "                tls=\"%.4f\" % np.mean(loss_tr)\n",
    "            )\n",
    "            \n",
    "            accuracy = correct/total\n",
    "            tb_writer.add_scalar('train/loss', np.mean(loss_tr), step)\n",
    "            tb_writer.add_scalar('train/accuracy', accuracy, step)\n",
    "            step+=1\n",
    "\n",
    "            loss_tr = []\n",
    "            total = 0\n",
    "            correct = 0\n"
   ]
  },
  {
   "cell_type": "code",
   "execution_count": null,
   "metadata": {},
   "outputs": [],
   "source": []
  }
 ],
 "metadata": {
  "interpreter": {
   "hash": "bc81a3ec444beb1d5a523daf231afa571e79be8a57abb6fe0028623a3d4d7136"
  },
  "kernelspec": {
   "display_name": "Python 3.9.7 ('HySpecLab')",
   "language": "python",
   "name": "python3"
  },
  "language_info": {
   "codemirror_mode": {
    "name": "ipython",
    "version": 3
   },
   "file_extension": ".py",
   "mimetype": "text/x-python",
   "name": "python",
   "nbconvert_exporter": "python",
   "pygments_lexer": "ipython3",
   "version": "3.9.7"
  },
  "orig_nbformat": 4
 },
 "nbformat": 4,
 "nbformat_minor": 2
}
