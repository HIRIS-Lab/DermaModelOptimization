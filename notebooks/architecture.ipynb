{
 "cells": [
  {
   "cell_type": "code",
   "execution_count": 19,
   "metadata": {},
   "outputs": [
    {
     "data": {
      "text/plain": [
       "True"
      ]
     },
     "execution_count": 19,
     "metadata": {},
     "output_type": "execute_result"
    }
   ],
   "source": [
    "import os, sys\n",
    "project_dir = os.path.join(os.getcwd(),'..')\n",
    "if project_dir not in sys.path:\n",
    "    sys.path.append(project_dir)\n",
    "\n",
    "attention_dir = os.path.join(project_dir, 'modules/AttentionMap')\n",
    "if attention_dir not in sys.path:\n",
    "    sys.path.append(attention_dir)\n",
    "\n",
    "sparse_dir = os.path.join(project_dir, 'modules/Sparse')\n",
    "if sparse_dir not in sys.path:\n",
    "    sys.path.append(sparse_dir) \n",
    "\n",
    "import config\n",
    "from derma.dataset import Derma\n",
    "from derma.architecture import InvertedResidual\n",
    "\n",
    "import numpy as np\n",
    "import torch\n",
    "from torch.utils.data import DataLoader\n",
    "from torchvision.models import MobileNetV2\n",
    "from torchvision import transforms\n",
    "\n",
    "torch.cuda.is_available()"
   ]
  },
  {
   "cell_type": "markdown",
   "metadata": {},
   "source": [
    "# Problem parameters"
   ]
  },
  {
   "cell_type": "code",
   "execution_count": 20,
   "metadata": {},
   "outputs": [],
   "source": [
    "# PARAMS\n",
    "\n",
    "problem_name = 'Mn_irv00_2_128_raw_weighted' # 'block_setting_classes_size-hairs_weighted-classes'\n",
    "\n",
    "#dataset_dir = os.path.join(config.DATASET_DIR,'PH2','Clases','')\n",
    "dataset_dir = os.path.join(config.DATASET_DIR,'ISIC_2020','Train','0128-0128_raw')\n",
    "\n",
    "CoordAtt = False\n",
    "Weighted_sampling = True\n",
    "\n",
    "#lr = 1e-3\n",
    "lr = 1e-4\n",
    "n_epoch = 10\n",
    "batch_size = 32\n",
    "\n",
    "inverted_residual_setting = [\n",
    "        # t, c, n, s\n",
    "        [1, 16, 1, 1],\n",
    "        [6, 24, 2, 2],\n",
    "        [6, 32, 3, 2],\n",
    "        [6, 64, 4, 2],\n",
    "        [6, 96, 3, 1],\n",
    "        [6, 160, 3, 2],\n",
    "        [6, 320, 1, 1],\n",
    "    ]\n",
    "# Original setting for mobilenet v2 (https://github.com/pytorch/vision/blob/main/torchvision/models/mobilenetv2.py)\n",
    "\n",
    "# OTHER PARAMS\n",
    "labels = [0, 1]\n",
    "split_ratio = [0.8, 0.1, 0.1] # train, val, test\n",
    "transform = transforms.Compose([\n",
    "    transforms.ToTensor(),\n",
    "#    transforms.Resize((128, 128))\n",
    "])\n",
    "\n",
    "criterion = torch.nn.CrossEntropyLoss()\n",
    "log_dir = os.path.join('log',problem_name) \n",
    "model_dir = os.path.join('models',problem_name+'.pt')"
   ]
  },
  {
   "cell_type": "markdown",
   "metadata": {},
   "source": [
    "# Dataset"
   ]
  },
  {
   "cell_type": "code",
   "execution_count": 21,
   "metadata": {},
   "outputs": [],
   "source": [
    "# Derma dataset \n",
    "dataset = Derma(dataset_dir,labels=labels,transform=transform)\n",
    "\n",
    "# Train-test splittings\n",
    "#dataset.shuffle(manual_seed=42) \n",
    "train_set, val_set, test_set = dataset.split_rand(split_ratio=split_ratio,manual_seed=42)"
   ]
  },
  {
   "cell_type": "code",
   "execution_count": 22,
   "metadata": {},
   "outputs": [],
   "source": [
    "# Weighted sampling\n",
    "if Weighted_sampling:\n",
    "    from derma.dataset import get_samples_weight\n",
    "    train_sampler, train_weights = get_samples_weight(train_set)\n",
    "    train_loader = DataLoader(train_set, batch_size=batch_size, num_workers=0, sampler=train_sampler)\n",
    "    val_sampler, val_weights = get_samples_weight(val_set)\n",
    "    val_loader = DataLoader(val_set, batch_size=batch_size, num_workers=0, sampler=val_sampler)\n",
    "    test_sampler, test_weights = get_samples_weight(test_set)\n",
    "    test_loader = DataLoader(test_set, batch_size=batch_size, num_workers=0, sampler=test_sampler)\n",
    "else:\n",
    "    train_loader = DataLoader(train_set, batch_size=batch_size, shuffle=True, num_workers=0)\n",
    "    val_loader = DataLoader(val_set, batch_size=batch_size, shuffle=True, num_workers=0)\n"
   ]
  },
  {
   "cell_type": "markdown",
   "metadata": {},
   "source": [
    "# Model"
   ]
  },
  {
   "cell_type": "code",
   "execution_count": 23,
   "metadata": {},
   "outputs": [],
   "source": [
    "# ISIC2018\n",
    "if CoordAtt:\n",
    "    model = MobileNetV2(num_classes=len(labels), inverted_residual_setting=inverted_residual_setting, block=InvertedResidual)\n",
    "else:\n",
    "    model = MobileNetV2(num_classes=len(labels), inverted_residual_setting=inverted_residual_setting) # standard MobileNetV2"
   ]
  },
  {
   "cell_type": "markdown",
   "metadata": {},
   "source": [
    "# Training"
   ]
  },
  {
   "cell_type": "code",
   "execution_count": 24,
   "metadata": {},
   "outputs": [
    {
     "name": "stderr",
     "output_type": "stream",
     "text": [
      " 10%|█         | 1/10 [01:06<09:57, 66.44s/epoch, tacc=0.8125, tls=0.4244]                 "
     ]
    },
    {
     "name": "stdout",
     "output_type": "stream",
     "text": [
      "Epoch 1 \n",
      " Training Loss: 0.000555277239112241 \n",
      " Validation Loss: 0.018342299788605933\n",
      "Validation Loss Decreased(inf ---> 1.870915) \t Saving The Model\n"
     ]
    },
    {
     "name": "stderr",
     "output_type": "stream",
     "text": [
      " 20%|██        | 2/10 [02:13<08:52, 66.59s/epoch, tacc=0.8438, tls=0.3375]"
     ]
    },
    {
     "name": "stdout",
     "output_type": "stream",
     "text": [
      "Epoch 2 \n",
      " Training Loss: 0.0004777264388736305 \n",
      " Validation Loss: 0.004431713445513856\n",
      "Validation Loss Decreased(1.870915 ---> 0.452035) \t Saving The Model\n"
     ]
    },
    {
     "name": "stderr",
     "output_type": "stream",
     "text": [
      " 30%|███       | 3/10 [03:19<07:44, 66.43s/epoch, tacc=0.8750, tls=0.2874]"
     ]
    },
    {
     "name": "stdout",
     "output_type": "stream",
     "text": [
      "Epoch 3 \n",
      " Training Loss: 0.00033243820163316573 \n",
      " Validation Loss: 0.013909885696336334\n"
     ]
    },
    {
     "name": "stderr",
     "output_type": "stream",
     "text": [
      " 40%|████      | 4/10 [04:25<06:37, 66.33s/epoch, tacc=0.8125, tls=0.2296]"
     ]
    },
    {
     "name": "stdout",
     "output_type": "stream",
     "text": [
      "Epoch 4 \n",
      " Training Loss: 0.000327442389336151 \n",
      " Validation Loss: 0.1118772824605306\n"
     ]
    },
    {
     "name": "stderr",
     "output_type": "stream",
     "text": [
      " 50%|█████     | 5/10 [05:31<05:31, 66.30s/epoch, tacc=0.8438, tls=0.1925]"
     ]
    },
    {
     "name": "stdout",
     "output_type": "stream",
     "text": [
      "Epoch 5 \n",
      " Training Loss: 0.00039992624219180035 \n",
      " Validation Loss: 0.08411957235897288\n"
     ]
    },
    {
     "name": "stderr",
     "output_type": "stream",
     "text": [
      " 60%|██████    | 6/10 [06:38<04:24, 66.24s/epoch, tacc=0.9688, tls=0.1811]"
     ]
    },
    {
     "name": "stdout",
     "output_type": "stream",
     "text": [
      "Epoch 6 \n",
      " Training Loss: 0.0005989948147159572 \n",
      " Validation Loss: 0.06586624126808316\n"
     ]
    },
    {
     "name": "stderr",
     "output_type": "stream",
     "text": [
      " 70%|███████   | 7/10 [07:44<03:18, 66.22s/epoch, tacc=1.0000, tls=0.1212]"
     ]
    },
    {
     "name": "stdout",
     "output_type": "stream",
     "text": [
      "Epoch 7 \n",
      " Training Loss: 7.088031108653442e-05 \n",
      " Validation Loss: 0.010562686359181124\n"
     ]
    },
    {
     "name": "stderr",
     "output_type": "stream",
     "text": [
      " 80%|████████  | 8/10 [08:50<02:12, 66.29s/epoch, tacc=0.9062, tls=0.1387]"
     ]
    },
    {
     "name": "stdout",
     "output_type": "stream",
     "text": [
      "Epoch 8 \n",
      " Training Loss: 0.00030989932041380403 \n",
      " Validation Loss: 0.016475166760238948\n"
     ]
    },
    {
     "name": "stderr",
     "output_type": "stream",
     "text": [
      " 90%|█████████ | 9/10 [09:56<01:06, 66.23s/epoch, tacc=0.9688, tls=0.0974]"
     ]
    },
    {
     "name": "stdout",
     "output_type": "stream",
     "text": [
      "Epoch 9 \n",
      " Training Loss: 0.0001556613426125978 \n",
      " Validation Loss: 0.009794730766146792\n"
     ]
    },
    {
     "name": "stderr",
     "output_type": "stream",
     "text": [
      "100%|██████████| 10/10 [11:02<00:00, 66.29s/epoch, tacc=1.0000, tls=0.1304]"
     ]
    },
    {
     "name": "stdout",
     "output_type": "stream",
     "text": [
      "Epoch 10 \n",
      " Training Loss: 2.6732904212583864e-05 \n",
      " Validation Loss: 0.00034235450713073504\n",
      "Validation Loss Decreased(0.452035 ---> 0.034920) \t Saving The Model\n"
     ]
    },
    {
     "name": "stderr",
     "output_type": "stream",
     "text": [
      "\n"
     ]
    }
   ],
   "source": [
    "from derma.utils import train, train_val\n",
    "from torch.utils.tensorboard import SummaryWriter\n",
    "\n",
    "optimizer = torch.optim.Adam(model.parameters(), lr=lr, weight_decay=1e-6)\n",
    "tb_writer = SummaryWriter(log_dir=log_dir)\n",
    "\n",
    "train_val(model,train_loader,val_loader,optimizer,criterion,tb_writer,n_epoch,model_dir=model_dir)\n"
   ]
  },
  {
   "cell_type": "code",
   "execution_count": 25,
   "metadata": {},
   "outputs": [],
   "source": [
    "torch.save(model.state_dict(), model_dir)"
   ]
  },
  {
   "cell_type": "markdown",
   "metadata": {},
   "source": [
    "# Test"
   ]
  },
  {
   "cell_type": "code",
   "execution_count": 26,
   "metadata": {},
   "outputs": [],
   "source": [
    "if torch.cuda.is_available():\n",
    "    device = torch.device('cuda')\n",
    "    model.load_state_dict(torch.load(model_dir))\n",
    "    model.to(device)\n",
    "else:\n",
    "    model.load_state_dict(torch.load(model_dir), map_location=torch.device('cpu'))"
   ]
  },
  {
   "cell_type": "code",
   "execution_count": null,
   "metadata": {},
   "outputs": [],
   "source": [
    "def metrics(output: torch.Tensor, target: torch.Tensor,weights=None):\n",
    "    from derma.metric import Metrics\n",
    "    import pandas as pd\n",
    "    acc = Metrics.accuracy(output, target)\n",
    "    sensitivity, specificity, precission, recall = Metrics.performance(output,target,weights=weights)\n",
    "    var = [[sensitivity, specificity, precission, recall, acc]]\n",
    "    columns = ['Sensitivity', 'Specificity', 'Precission', 'Recall', 'Accuracy']\n",
    "    metrics = pd.DataFrame(var, columns=columns)\n",
    "    return metrics\n",
    "\n",
    "def test_experiment(model,dataloader,weights=None):\n",
    "    from torch.autograd import Variable\n",
    "#    device = 'cuda' if torch.cuda.is_available() else 'cpu'\n",
    "    device = 'cpu'\n",
    "    model = model.to(device) \n",
    "    # set model to evaluation mode\n",
    "    model.eval()\n",
    "    # compute metrics over the dataset\n",
    "    for data_batch, labels_batch in dataloader:\n",
    "        # fetch the next evaluation batch\n",
    "        data_batch, labels_batch = Variable(data_batch).to(device), Variable(labels_batch).to(device)\n",
    "        # compute model output\n",
    "        output_batch = model(data_batch)\n",
    "        metrics_batch = metrics(output_batch,labels_batch,weights=weights)\n",
    "    return metrics_batch"
   ]
  },
  {
   "cell_type": "code",
   "execution_count": 28,
   "metadata": {},
   "outputs": [
    {
     "name": "stderr",
     "output_type": "stream",
     "text": [
      "c:\\Users\\mcastro\\Documents\\MCastro\\2_Codigo\\DermaModelOptimization\\notebooks\\..\\derma\\metric.py:39: RuntimeWarning: invalid value encountered in longlong_scalars\n",
      "  sensitivity = tp / (tp+fn)\n",
      "c:\\Users\\mcastro\\Documents\\MCastro\\2_Codigo\\DermaModelOptimization\\notebooks\\..\\derma\\metric.py:41: RuntimeWarning: invalid value encountered in longlong_scalars\n",
      "  recall = tp / (tp+fn)\n",
      "c:\\Users\\mcastro\\Documents\\MCastro\\2_Codigo\\DermaModelOptimization\\notebooks\\..\\derma\\metric.py:39: RuntimeWarning: invalid value encountered in longlong_scalars\n",
      "  sensitivity = tp / (tp+fn)\n",
      "c:\\Users\\mcastro\\Documents\\MCastro\\2_Codigo\\DermaModelOptimization\\notebooks\\..\\derma\\metric.py:41: RuntimeWarning: invalid value encountered in longlong_scalars\n",
      "  recall = tp / (tp+fn)\n",
      "c:\\Users\\mcastro\\Documents\\MCastro\\2_Codigo\\DermaModelOptimization\\notebooks\\..\\derma\\metric.py:39: RuntimeWarning: invalid value encountered in longlong_scalars\n",
      "  sensitivity = tp / (tp+fn)\n",
      "c:\\Users\\mcastro\\Documents\\MCastro\\2_Codigo\\DermaModelOptimization\\notebooks\\..\\derma\\metric.py:41: RuntimeWarning: invalid value encountered in longlong_scalars\n",
      "  recall = tp / (tp+fn)\n",
      "c:\\Users\\mcastro\\Documents\\MCastro\\2_Codigo\\DermaModelOptimization\\notebooks\\..\\derma\\metric.py:39: RuntimeWarning: invalid value encountered in longlong_scalars\n",
      "  sensitivity = tp / (tp+fn)\n",
      "c:\\Users\\mcastro\\Documents\\MCastro\\2_Codigo\\DermaModelOptimization\\notebooks\\..\\derma\\metric.py:41: RuntimeWarning: invalid value encountered in longlong_scalars\n",
      "  recall = tp / (tp+fn)\n",
      "c:\\Users\\mcastro\\Documents\\MCastro\\2_Codigo\\DermaModelOptimization\\notebooks\\..\\derma\\metric.py:39: RuntimeWarning: invalid value encountered in longlong_scalars\n",
      "  sensitivity = tp / (tp+fn)\n",
      "c:\\Users\\mcastro\\Documents\\MCastro\\2_Codigo\\DermaModelOptimization\\notebooks\\..\\derma\\metric.py:41: RuntimeWarning: invalid value encountered in longlong_scalars\n",
      "  recall = tp / (tp+fn)\n",
      "c:\\Users\\mcastro\\Documents\\MCastro\\2_Codigo\\DermaModelOptimization\\notebooks\\..\\derma\\metric.py:39: RuntimeWarning: invalid value encountered in longlong_scalars\n",
      "  sensitivity = tp / (tp+fn)\n",
      "c:\\Users\\mcastro\\Documents\\MCastro\\2_Codigo\\DermaModelOptimization\\notebooks\\..\\derma\\metric.py:41: RuntimeWarning: invalid value encountered in longlong_scalars\n",
      "  recall = tp / (tp+fn)\n",
      "c:\\Users\\mcastro\\Documents\\MCastro\\2_Codigo\\DermaModelOptimization\\notebooks\\..\\derma\\metric.py:39: RuntimeWarning: invalid value encountered in longlong_scalars\n",
      "  sensitivity = tp / (tp+fn)\n",
      "c:\\Users\\mcastro\\Documents\\MCastro\\2_Codigo\\DermaModelOptimization\\notebooks\\..\\derma\\metric.py:41: RuntimeWarning: invalid value encountered in longlong_scalars\n",
      "  recall = tp / (tp+fn)\n",
      "c:\\Users\\mcastro\\Documents\\MCastro\\2_Codigo\\DermaModelOptimization\\notebooks\\..\\derma\\metric.py:39: RuntimeWarning: invalid value encountered in longlong_scalars\n",
      "  sensitivity = tp / (tp+fn)\n",
      "c:\\Users\\mcastro\\Documents\\MCastro\\2_Codigo\\DermaModelOptimization\\notebooks\\..\\derma\\metric.py:41: RuntimeWarning: invalid value encountered in longlong_scalars\n",
      "  recall = tp / (tp+fn)\n",
      "c:\\Users\\mcastro\\Documents\\MCastro\\2_Codigo\\DermaModelOptimization\\notebooks\\..\\derma\\metric.py:39: RuntimeWarning: invalid value encountered in longlong_scalars\n",
      "  sensitivity = tp / (tp+fn)\n",
      "c:\\Users\\mcastro\\Documents\\MCastro\\2_Codigo\\DermaModelOptimization\\notebooks\\..\\derma\\metric.py:41: RuntimeWarning: invalid value encountered in longlong_scalars\n",
      "  recall = tp / (tp+fn)\n",
      "c:\\Users\\mcastro\\Documents\\MCastro\\2_Codigo\\DermaModelOptimization\\notebooks\\..\\derma\\metric.py:40: RuntimeWarning: invalid value encountered in longlong_scalars\n",
      "  precission = tp / (tp+fp)\n",
      "c:\\Users\\mcastro\\Documents\\MCastro\\2_Codigo\\DermaModelOptimization\\notebooks\\..\\derma\\metric.py:39: RuntimeWarning: invalid value encountered in longlong_scalars\n",
      "  sensitivity = tp / (tp+fn)\n",
      "c:\\Users\\mcastro\\Documents\\MCastro\\2_Codigo\\DermaModelOptimization\\notebooks\\..\\derma\\metric.py:41: RuntimeWarning: invalid value encountered in longlong_scalars\n",
      "  recall = tp / (tp+fn)\n"
     ]
    },
    {
     "ename": "ValueError",
     "evalue": "not enough values to unpack (expected 4, got 1)",
     "output_type": "error",
     "traceback": [
      "\u001b[1;31m---------------------------------------------------------------------------\u001b[0m",
      "\u001b[1;31mValueError\u001b[0m                                Traceback (most recent call last)",
      "\u001b[1;32mc:\\Users\\mcastro\\Documents\\MCastro\\2_Codigo\\DermaModelOptimization\\notebooks\\architecture.ipynb Cell 14'\u001b[0m in \u001b[0;36m<cell line: 5>\u001b[1;34m()\u001b[0m\n\u001b[0;32m      <a href='vscode-notebook-cell:/c%3A/Users/mcastro/Documents/MCastro/2_Codigo/DermaModelOptimization/notebooks/architecture.ipynb#ch0000013?line=1'>2</a>\u001b[0m test_loader \u001b[39m=\u001b[39m DataLoader(test_set, batch_size\u001b[39m=\u001b[39m\u001b[39m32\u001b[39m, num_workers\u001b[39m=\u001b[39m\u001b[39m0\u001b[39m)\n\u001b[0;32m      <a href='vscode-notebook-cell:/c%3A/Users/mcastro/Documents/MCastro/2_Codigo/DermaModelOptimization/notebooks/architecture.ipynb#ch0000013?line=3'>4</a>\u001b[0m \u001b[39m#metrics_df = test_experiment(model,test_loader,test_weights)\u001b[39;00m\n\u001b[1;32m----> <a href='vscode-notebook-cell:/c%3A/Users/mcastro/Documents/MCastro/2_Codigo/DermaModelOptimization/notebooks/architecture.ipynb#ch0000013?line=4'>5</a>\u001b[0m metrics_df \u001b[39m=\u001b[39m test_experiment(model,test_loader)\n\u001b[0;32m      <a href='vscode-notebook-cell:/c%3A/Users/mcastro/Documents/MCastro/2_Codigo/DermaModelOptimization/notebooks/architecture.ipynb#ch0000013?line=5'>6</a>\u001b[0m metrics_df\u001b[39m.\u001b[39minfo()\n",
      "File \u001b[1;32mc:\\Users\\mcastro\\Documents\\MCastro\\2_Codigo\\DermaModelOptimization\\notebooks\\..\\derma\\experiment.py:90\u001b[0m, in \u001b[0;36mtest_experiment\u001b[1;34m(model, dataloader, weights)\u001b[0m\n\u001b[0;32m     <a href='file:///c%3A/Users/mcastro/Documents/MCastro/2_Codigo/DermaModelOptimization/notebooks/../derma/experiment.py?line=87'>88</a>\u001b[0m     \u001b[39m# compute model output\u001b[39;00m\n\u001b[0;32m     <a href='file:///c%3A/Users/mcastro/Documents/MCastro/2_Codigo/DermaModelOptimization/notebooks/../derma/experiment.py?line=88'>89</a>\u001b[0m     output_batch \u001b[39m=\u001b[39m model(data_batch)\n\u001b[1;32m---> <a href='file:///c%3A/Users/mcastro/Documents/MCastro/2_Codigo/DermaModelOptimization/notebooks/../derma/experiment.py?line=89'>90</a>\u001b[0m     metrics_batch \u001b[39m=\u001b[39m metrics(output_batch,labels_batch,weights\u001b[39m=\u001b[39;49mweights)\n\u001b[0;32m     <a href='file:///c%3A/Users/mcastro/Documents/MCastro/2_Codigo/DermaModelOptimization/notebooks/../derma/experiment.py?line=90'>91</a>\u001b[0m \u001b[39mreturn\u001b[39;00m metrics_batch\n",
      "File \u001b[1;32mc:\\Users\\mcastro\\Documents\\MCastro\\2_Codigo\\DermaModelOptimization\\notebooks\\..\\derma\\experiment.py:71\u001b[0m, in \u001b[0;36mmetrics\u001b[1;34m(output, target, weights)\u001b[0m\n\u001b[0;32m     <a href='file:///c%3A/Users/mcastro/Documents/MCastro/2_Codigo/DermaModelOptimization/notebooks/../derma/experiment.py?line=68'>69</a>\u001b[0m \u001b[39mimport\u001b[39;00m \u001b[39mpandas\u001b[39;00m \u001b[39mas\u001b[39;00m \u001b[39mpd\u001b[39;00m\n\u001b[0;32m     <a href='file:///c%3A/Users/mcastro/Documents/MCastro/2_Codigo/DermaModelOptimization/notebooks/../derma/experiment.py?line=69'>70</a>\u001b[0m acc \u001b[39m=\u001b[39m Metrics\u001b[39m.\u001b[39maccuracy(output, target)\n\u001b[1;32m---> <a href='file:///c%3A/Users/mcastro/Documents/MCastro/2_Codigo/DermaModelOptimization/notebooks/../derma/experiment.py?line=70'>71</a>\u001b[0m sensitivity, specificity, precission, recall \u001b[39m=\u001b[39m Metrics\u001b[39m.\u001b[39;49mperformance(output,target,weights\u001b[39m=\u001b[39;49mweights)\n\u001b[0;32m     <a href='file:///c%3A/Users/mcastro/Documents/MCastro/2_Codigo/DermaModelOptimization/notebooks/../derma/experiment.py?line=71'>72</a>\u001b[0m var \u001b[39m=\u001b[39m [[sensitivity, specificity, precission, recall, acc]]\n\u001b[0;32m     <a href='file:///c%3A/Users/mcastro/Documents/MCastro/2_Codigo/DermaModelOptimization/notebooks/../derma/experiment.py?line=72'>73</a>\u001b[0m columns \u001b[39m=\u001b[39m [\u001b[39m'\u001b[39m\u001b[39mSensitivity\u001b[39m\u001b[39m'\u001b[39m, \u001b[39m'\u001b[39m\u001b[39mSpecificity\u001b[39m\u001b[39m'\u001b[39m, \u001b[39m'\u001b[39m\u001b[39mPrecission\u001b[39m\u001b[39m'\u001b[39m, \u001b[39m'\u001b[39m\u001b[39mRecall\u001b[39m\u001b[39m'\u001b[39m, \u001b[39m'\u001b[39m\u001b[39mAccuracy\u001b[39m\u001b[39m'\u001b[39m]\n",
      "File \u001b[1;32mc:\\Users\\mcastro\\Documents\\MCastro\\2_Codigo\\DermaModelOptimization\\notebooks\\..\\derma\\metric.py:37\u001b[0m, in \u001b[0;36mMetrics.performance\u001b[1;34m(pred, targets, weights)\u001b[0m\n\u001b[0;32m     <a href='file:///c%3A/Users/mcastro/Documents/MCastro/2_Codigo/DermaModelOptimization/notebooks/../derma/metric.py?line=21'>22</a>\u001b[0m \u001b[39m@staticmethod\u001b[39m\n\u001b[0;32m     <a href='file:///c%3A/Users/mcastro/Documents/MCastro/2_Codigo/DermaModelOptimization/notebooks/../derma/metric.py?line=22'>23</a>\u001b[0m \u001b[39mdef\u001b[39;00m \u001b[39mperformance\u001b[39m(pred: Tensor, targets: Tensor, weights\u001b[39m=\u001b[39m\u001b[39mNone\u001b[39;00m) \u001b[39m-\u001b[39m\u001b[39m>\u001b[39m \u001b[39mtuple\u001b[39m:\n\u001b[0;32m     <a href='file:///c%3A/Users/mcastro/Documents/MCastro/2_Codigo/DermaModelOptimization/notebooks/../derma/metric.py?line=23'>24</a>\u001b[0m     \u001b[39mr\u001b[39m\u001b[39m\"\"\"\u001b[39;00m\n\u001b[0;32m     <a href='file:///c%3A/Users/mcastro/Documents/MCastro/2_Codigo/DermaModelOptimization/notebooks/../derma/metric.py?line=24'>25</a>\u001b[0m \u001b[39m        Obtain statistical measures of the performance of a binary classification test\u001b[39;00m\n\u001b[0;32m     <a href='file:///c%3A/Users/mcastro/Documents/MCastro/2_Codigo/DermaModelOptimization/notebooks/../derma/metric.py?line=25'>26</a>\u001b[0m \u001b[39m        that are widely used: sensitivity, specificity and precission.\u001b[39;00m\n\u001b[1;32m   (...)\u001b[0m\n\u001b[0;32m     <a href='file:///c%3A/Users/mcastro/Documents/MCastro/2_Codigo/DermaModelOptimization/notebooks/../derma/metric.py?line=34'>35</a>\u001b[0m \u001b[39m            and precission.\u001b[39;00m\n\u001b[0;32m     <a href='file:///c%3A/Users/mcastro/Documents/MCastro/2_Codigo/DermaModelOptimization/notebooks/../derma/metric.py?line=35'>36</a>\u001b[0m \u001b[39m    \"\"\"\u001b[39;00m\n\u001b[1;32m---> <a href='file:///c%3A/Users/mcastro/Documents/MCastro/2_Codigo/DermaModelOptimization/notebooks/../derma/metric.py?line=36'>37</a>\u001b[0m     tn, fp, fn, tp \u001b[39m=\u001b[39m confusion_matrix(targets\u001b[39m.\u001b[39mcpu(), argmax(pred, dim\u001b[39m=\u001b[39m\u001b[39m1\u001b[39m)\u001b[39m.\u001b[39mcpu(),sample_weight\u001b[39m=\u001b[39mweights)\u001b[39m.\u001b[39mravel()\n\u001b[0;32m     <a href='file:///c%3A/Users/mcastro/Documents/MCastro/2_Codigo/DermaModelOptimization/notebooks/../derma/metric.py?line=37'>38</a>\u001b[0m     specificity \u001b[39m=\u001b[39m tn \u001b[39m/\u001b[39m (tn\u001b[39m+\u001b[39mfp)\n\u001b[0;32m     <a href='file:///c%3A/Users/mcastro/Documents/MCastro/2_Codigo/DermaModelOptimization/notebooks/../derma/metric.py?line=38'>39</a>\u001b[0m     sensitivity \u001b[39m=\u001b[39m tp \u001b[39m/\u001b[39m (tp\u001b[39m+\u001b[39mfn)\n",
      "\u001b[1;31mValueError\u001b[0m: not enough values to unpack (expected 4, got 1)"
     ]
    }
   ],
   "source": [
    "#from derma.experiment import test_experiment\n",
    "\n",
    "metrics_df = test_experiment(model,test_loader)\n",
    "metrics_df.info()"
   ]
  },
  {
   "cell_type": "code",
   "execution_count": null,
   "metadata": {},
   "outputs": [],
   "source": []
  }
 ],
 "metadata": {
  "interpreter": {
   "hash": "bc81a3ec444beb1d5a523daf231afa571e79be8a57abb6fe0028623a3d4d7136"
  },
  "kernelspec": {
   "display_name": "Python 3.9.7 ('HySpecLab')",
   "language": "python",
   "name": "python3"
  },
  "language_info": {
   "codemirror_mode": {
    "name": "ipython",
    "version": 3
   },
   "file_extension": ".py",
   "mimetype": "text/x-python",
   "name": "python",
   "nbconvert_exporter": "python",
   "pygments_lexer": "ipython3",
   "version": "3.8.10"
  },
  "orig_nbformat": 4
 },
 "nbformat": 4,
 "nbformat_minor": 2
}
